{
 "cells": [
  {
   "cell_type": "code",
   "execution_count": 1,
   "outputs": [],
   "source": [
    "import torch\n",
    "import numpy as np"
   ],
   "metadata": {
    "collapsed": false,
    "pycharm": {
     "name": "#%%\n"
    }
   }
  },
  {
   "cell_type": "code",
   "execution_count": 2,
   "outputs": [],
   "source": [
    "# Downloading MNIST\n",
    "from six.moves import urllib\n",
    "opener = urllib.request.build_opener()\n",
    "opener.addheaders = [('User-agent', 'Mozilla/5.0')]\n",
    "urllib.request.install_opener(opener)\n"
   ],
   "metadata": {
    "collapsed": false,
    "pycharm": {
     "name": "#%%\n"
    }
   }
  },
  {
   "cell_type": "code",
   "execution_count": 3,
   "outputs": [],
   "source": [
    "from torchvision import datasets\n",
    "import torchvision.transforms as transforms\n",
    "from torch.utils.data.sampler import SubsetRandomSampler"
   ],
   "metadata": {
    "collapsed": false,
    "pycharm": {
     "name": "#%%\n"
    }
   }
  },
  {
   "cell_type": "code",
   "execution_count": 4,
   "outputs": [],
   "source": [
    "# Vars\n",
    "num_workers = 0\n",
    "batch_size = 20\n",
    "valid_size = 0.2\n",
    "transform = transforms.ToTensor()"
   ],
   "metadata": {
    "collapsed": false,
    "pycharm": {
     "name": "#%%\n"
    }
   }
  },
  {
   "cell_type": "code",
   "execution_count": 5,
   "outputs": [
    {
     "name": "stdout",
     "output_type": "stream",
     "text": [
      "Downloading http://yann.lecun.com/exdb/mnist/train-images-idx3-ubyte.gz\n",
      "Downloading http://yann.lecun.com/exdb/mnist/train-images-idx3-ubyte.gz to data/MNIST/raw/train-images-idx3-ubyte.gz\n"
     ]
    },
    {
     "name": "stderr",
     "output_type": "stream",
     "text": [
      "31.0%IOPub message rate exceeded.\n",
      "The notebook server will temporarily stop sending output\n",
      "to the client in order to avoid crashing it.\n",
      "To change this limit, set the config variable\n",
      "`--NotebookApp.iopub_msg_rate_limit`.\n",
      "\n",
      "Current values:\n",
      "NotebookApp.iopub_msg_rate_limit=1000.0 (msgs/sec)\n",
      "NotebookApp.rate_limit_window=3.0 (secs)\n",
      "\n",
      "92.8%IOPub message rate exceeded.\n",
      "The notebook server will temporarily stop sending output\n",
      "to the client in order to avoid crashing it.\n",
      "To change this limit, set the config variable\n",
      "`--NotebookApp.iopub_msg_rate_limit`.\n",
      "\n",
      "Current values:\n",
      "NotebookApp.iopub_msg_rate_limit=1000.0 (msgs/sec)\n",
      "NotebookApp.rate_limit_window=3.0 (secs)\n",
      "\n",
      "100.0%\n",
      "112.7%\n",
      "/Users/saharshshukla/PycharmProjects/NN_DL_DA1/venv/lib/python3.9/site-packages/torchvision/datasets/mnist.py:498: UserWarning: The given NumPy array is not writeable, and PyTorch does not support non-writeable tensors. This means you can write to the underlying (supposedly non-writeable) NumPy array using the tensor. You may want to copy the array to protect its data or make it writeable before converting it to a tensor. This type of warning will be suppressed for the rest of this program. (Triggered internally at  ../torch/csrc/utils/tensor_numpy.cpp:180.)\n",
      "  return torch.from_numpy(parsed.astype(m[2], copy=False)).view(*s)\n"
     ]
    },
    {
     "name": "stdout",
     "output_type": "stream",
     "text": [
      "Extracting data/MNIST/raw/t10k-images-idx3-ubyte.gz to data/MNIST/raw\n",
      "\n",
      "Downloading http://yann.lecun.com/exdb/mnist/t10k-labels-idx1-ubyte.gz\n",
      "Downloading http://yann.lecun.com/exdb/mnist/t10k-labels-idx1-ubyte.gz to data/MNIST/raw/t10k-labels-idx1-ubyte.gz\n",
      "Extracting data/MNIST/raw/t10k-labels-idx1-ubyte.gz to data/MNIST/raw\n",
      "\n"
     ]
    }
   ],
   "source": [
    "# Getting the training data and testing data\n",
    "train_data = datasets.MNIST(root='data',\n",
    "                            train=True,\n",
    "                            download=True,\n",
    "                            transform=transform)\n",
    "test_data = datasets.MNIST(root='data',\n",
    "                           train=False,\n",
    "                           download=True,\n",
    "                           transform=transform)\n",
    "num_train = len(train_data)\n",
    "indices = list(range(num_train))\n",
    "np.random.shuffle(indices)\n",
    "split = int(np.floor(valid_size*num_train))\n",
    "train_idx, valid_idx = indices[split:], indices[:split]\n",
    "\n",
    "train_sampler = SubsetRandomSampler(train_idx)\n",
    "valid_sampler = SubsetRandomSampler(valid_idx)\n",
    "\n",
    "# Data Loaders\n",
    "train_loader = torch.utils.data.DataLoader(train_data,\n",
    "                                           batch_size=batch_size,\n",
    "                                           sampler=train_sampler,\n",
    "                                           num_workers=num_workers)\n",
    "valid_loader = torch.utils.data.DataLoader(train_data,\n",
    "                                           batch_size=batch_size,\n",
    "                                           sampler=valid_sampler,\n",
    "                                           num_workers=num_workers)\n",
    "test_loader = torch.utils.data.DataLoader(test_data,\n",
    "                                          batch_size=batch_size,\n",
    "                                          num_workers=num_workers)"
   ],
   "metadata": {
    "collapsed": false,
    "pycharm": {
     "name": "#%%\n"
    }
   }
  },
  {
   "cell_type": "code",
   "execution_count": 7,
   "outputs": [],
   "source": [
    "import matplotlib.pyplot as plt\n",
    "%matplotlib inline"
   ],
   "metadata": {
    "collapsed": false,
    "pycharm": {
     "name": "#%%\n"
    }
   }
  },
  {
   "cell_type": "code",
   "execution_count": 9,
   "outputs": [
    {
     "name": "stderr",
     "output_type": "stream",
     "text": [
      "/var/folders/2c/j9b406px6x12xww8sbjqxyv00000gp/T/ipykernel_6898/2497275248.py:7: MatplotlibDeprecationWarning: Passing non-integers as three-element position specification is deprecated since 3.3 and will be removed two minor releases later.\n",
      "  ax = fig.add_subplot(2,20/2, idx+1, xticks=[], yticks=[])\n"
     ]
    },
    {
     "data": {
      "text/plain": "<Figure size 1800x288 with 20 Axes>",
      "image/png": "[encoded data removed]"
     },
     "metadata": {},
     "output_type": "display_data"
    }
   ],
   "source": [
    "dataiter = iter(train_loader)\n",
    "images, labels = dataiter.next()\n",
    "images = images.numpy()\n",
    "\n",
    "fig = plt.figure(figsize=(25,4))\n",
    "for idx in np.arange(20):\n",
    "    ax = fig.add_subplot(2,20/2, idx+1, xticks=[], yticks=[])\n",
    "    ax.imshow(np.squeeze(images[idx]), cmap='gray')\n",
    "    ax.set_title(str(labels[idx].item()))"
   ],
   "metadata": {
    "collapsed": false,
    "pycharm": {
     "name": "#%%\n"
    }
   }
  },
  {
   "cell_type": "code",
   "execution_count": 10,
   "outputs": [
    {
     "name": "stdout",
     "output_type": "stream",
     "text": [
      "Net(\n",
      "  (fc1): Linear(in_features=784, out_features=512, bias=True)\n",
      "  (fc2): Linear(in_features=512, out_features=512, bias=True)\n",
      "  (fc3): Linear(in_features=512, out_features=10, bias=True)\n",
      "  (dropout): Dropout(p=0.2, inplace=False)\n",
      ")\n"
     ]
    }
   ],
   "source": [
    "import torch.nn as nn\n",
    "import torch.nn.functional as F\n",
    "\n",
    "\n",
    "class Net(nn.Module):\n",
    "    def __init__(self):\n",
    "        super(Net, self).__init__()\n",
    "        hidden_1 = 512\n",
    "        hidden_2 = 512\n",
    "        self.fc1 = nn.Linear(28 * 28, hidden_1)\n",
    "        self.fc2 = nn.Linear(hidden_1, hidden_2)\n",
    "        self.fc3 = nn.Linear(hidden_2, 10)\n",
    "        self.dropout = nn.Dropout(0.2)\n",
    "\n",
    "    def forward(self, x):\n",
    "        x = x.view(-1, 28 * 28)\n",
    "\n",
    "        ## INPUT RELU\n",
    "        x = F.relu(self.fc1(x))\n",
    "        x = self.dropout(x)\n",
    "        x = F.relu(self.fc2(x))\n",
    "        x = self.dropout(x)\n",
    "        x = self.fc3(x)\n",
    "        return x\n",
    "model = Net()\n",
    "print(model)"
   ],
   "metadata": {
    "collapsed": false,
    "pycharm": {
     "name": "#%%\n"
    }
   }
  },
  {
   "cell_type": "code",
   "execution_count": 11,
   "outputs": [],
   "source": [
    "criterion = nn.CrossEntropyLoss()\n",
    "optimizer = torch.optim.SGD(model.parameters(), lr = 0.01)"
   ],
   "metadata": {
    "collapsed": false,
    "pycharm": {
     "name": "#%%\n"
    }
   }
  },
  {
   "cell_type": "code",
   "execution_count": 12,
   "outputs": [
    {
     "name": "stdout",
     "output_type": "stream",
     "text": [
      "Epoch: 1\t Training Loss: 0.9446044084460785\t Validation Loss: 0.373483088662227\n",
      "Saving Model to directory\n",
      "Epoch: 2\t Training Loss: 0.3573254141071811\t Validation Loss: 0.2807242226911088\n",
      "Saving Model to directory\n",
      "Epoch: 3\t Training Loss: 0.2838164677059588\t Validation Loss: 0.23682365799012284\n",
      "Saving Model to directory\n",
      "Epoch: 4\t Training Loss: 0.23323228167835622\t Validation Loss: 0.19670140042901038\n",
      "Saving Model to directory\n",
      "Epoch: 5\t Training Loss: 0.1978403803613037\t Validation Loss: 0.17275115511147304\n",
      "Saving Model to directory\n",
      "Epoch: 6\t Training Loss: 0.1702684306696756\t Validation Loss: 0.15344085064716637\n",
      "Saving Model to directory\n",
      "Epoch: 7\t Training Loss: 0.15156077621349445\t Validation Loss: 0.1412630172780094\n",
      "Saving Model to directory\n",
      "Epoch: 8\t Training Loss: 0.13565971715783234\t Validation Loss: 0.1283234375688092\n",
      "Saving Model to directory\n",
      "Epoch: 9\t Training Loss: 0.12105595496133902\t Validation Loss: 0.12098590126338725\n",
      "Saving Model to directory\n",
      "Epoch: 10\t Training Loss: 0.11091090281998428\t Validation Loss: 0.11470264472649433\n",
      "Saving Model to directory\n",
      "Epoch: 11\t Training Loss: 0.10064032267526879\t Validation Loss: 0.10778334512239478\n",
      "Saving Model to directory\n",
      "Epoch: 12\t Training Loss: 0.09158219852785503\t Validation Loss: 0.10242054017648722\n",
      "Saving Model to directory\n",
      "Epoch: 13\t Training Loss: 0.08550031360025362\t Validation Loss: 0.09922068089693009\n",
      "Saving Model to directory\n",
      "Epoch: 14\t Training Loss: 0.07785062261968657\t Validation Loss: 0.09247580698012219\n",
      "Saving Model to directory\n",
      "Epoch: 15\t Training Loss: 0.07404798374637418\t Validation Loss: 0.09074529229915546\n",
      "Saving Model to directory\n",
      "Epoch: 16\t Training Loss: 0.06830108703827137\t Validation Loss: 0.08881859914399684\n",
      "Saving Model to directory\n",
      "Epoch: 17\t Training Loss: 0.06546915396034213\t Validation Loss: 0.08394924670729476\n",
      "Saving Model to directory\n",
      "Epoch: 18\t Training Loss: 0.059036665809277716\t Validation Loss: 0.08311736005047957\n",
      "Saving Model to directory\n",
      "Epoch: 19\t Training Loss: 0.05640498879280737\t Validation Loss: 0.08119348134903703\n",
      "Saving Model to directory\n",
      "Epoch: 20\t Training Loss: 0.05291671250648505\t Validation Loss: 0.07879589687945554\n",
      "Saving Model to directory\n",
      "Epoch: 21\t Training Loss: 0.047521937081449625\t Validation Loss: 0.07790112864216402\n",
      "Saving Model to directory\n",
      "Epoch: 22\t Training Loss: 0.04600732601194371\t Validation Loss: 0.07614978257086477\n",
      "Saving Model to directory\n",
      "Epoch: 23\t Training Loss: 0.04382584739933615\t Validation Loss: 0.0775516244576041\n",
      "Epoch: 24\t Training Loss: 0.043114954170159765\t Validation Loss: 0.07602854407198417\n",
      "Saving Model to directory\n",
      "Epoch: 25\t Training Loss: 0.040398421290519765\t Validation Loss: 0.0739457837419468\n",
      "Saving Model to directory\n",
      "Epoch: 26\t Training Loss: 0.03673118946569351\t Validation Loss: 0.07451780987733704\n",
      "Epoch: 27\t Training Loss: 0.03523326332948879\t Validation Loss: 0.07276348434199463\n",
      "Saving Model to directory\n",
      "Epoch: 28\t Training Loss: 0.03422163365787128\t Validation Loss: 0.07220278424630426\n",
      "Saving Model to directory\n",
      "Epoch: 29\t Training Loss: 0.03203426368569126\t Validation Loss: 0.07199832448321103\n",
      "Saving Model to directory\n",
      "Epoch: 30\t Training Loss: 0.029781584678530634\t Validation Loss: 0.07080411466253281\n",
      "Saving Model to directory\n",
      "Epoch: 31\t Training Loss: 0.02931094310052989\t Validation Loss: 0.07064739047879508\n",
      "Saving Model to directory\n",
      "Epoch: 32\t Training Loss: 0.028006728432804568\t Validation Loss: 0.0708689194676602\n",
      "Epoch: 33\t Training Loss: 0.026047284995899343\t Validation Loss: 0.06964000660909127\n",
      "Saving Model to directory\n",
      "Epoch: 34\t Training Loss: 0.024834700123513662\t Validation Loss: 0.06901064189177608\n",
      "Saving Model to directory\n",
      "Epoch: 35\t Training Loss: 0.02378740826398219\t Validation Loss: 0.07018014448412335\n",
      "Epoch: 36\t Training Loss: 0.022376929177295703\t Validation Loss: 0.06890052556408288\n",
      "Saving Model to directory\n",
      "Epoch: 37\t Training Loss: 0.0215086740255659\t Validation Loss: 0.06800868443374687\n",
      "Saving Model to directory\n",
      "Epoch: 38\t Training Loss: 0.021161509075412446\t Validation Loss: 0.06888951093314973\n",
      "Epoch: 39\t Training Loss: 0.01931506440531242\t Validation Loss: 0.06833812914502535\n",
      "Epoch: 40\t Training Loss: 0.018670343001461635\t Validation Loss: 0.06807115427747097\n",
      "Epoch: 41\t Training Loss: 0.01868337731955762\t Validation Loss: 0.06944975739405587\n",
      "Epoch: 42\t Training Loss: 0.01710370681372903\t Validation Loss: 0.06819263930892096\n",
      "Epoch: 43\t Training Loss: 0.015783824505424492\t Validation Loss: 0.07052681238407482\n",
      "Epoch: 44\t Training Loss: 0.015506334956838449\t Validation Loss: 0.0686344602802698\n",
      "Epoch: 45\t Training Loss: 0.015782182540022706\t Validation Loss: 0.06905688454956059\n",
      "Epoch: 46\t Training Loss: 0.015948859577911208\t Validation Loss: 0.07015225822102365\n",
      "Epoch: 47\t Training Loss: 0.014228029583640212\t Validation Loss: 0.07045242720969934\n",
      "Epoch: 48\t Training Loss: 0.014029556082744725\t Validation Loss: 0.07089768788702713\n",
      "Epoch: 49\t Training Loss: 0.013785688457290538\t Validation Loss: 0.06983434074849962\n",
      "Epoch: 50\t Training Loss: 0.012706319167142889\t Validation Loss: 0.07023902463182519\n"
     ]
    }
   ],
   "source": [
    "## Training the model\n",
    "\n",
    "num_epochs = 50\n",
    "valid_loss_min = np.Inf\n",
    "\n",
    "for epoch in range(num_epochs):\n",
    "    train_loss = 0.0\n",
    "    valid_loss = 0.0\n",
    "    model.train()\n",
    "    for data, target in train_loader:\n",
    "        optimizer.zero_grad()\n",
    "        output = model(data)\n",
    "        loss = criterion(output, target)\n",
    "        loss.backward()\n",
    "        optimizer.step()\n",
    "        train_loss += loss.item()\n",
    "    model.eval()\n",
    "    for data,target in valid_loader:\n",
    "        output = model(data)\n",
    "        loss = criterion(output, target)\n",
    "        valid_loss += loss.item()\n",
    "    train_loss = train_loss/len(train_loader)\n",
    "    valid_loss = valid_loss/len(valid_loader)\n",
    "\n",
    "    print(f\"Epoch: {epoch+1}\\t Training Loss: {train_loss}\\t Validation Loss: {valid_loss}\")\n",
    "\n",
    "    # Self Save if Validation loss has decresed\n",
    "\n",
    "    if valid_loss < valid_loss_min:\n",
    "        print(f\"Saving Model to directory\")\n",
    "        torch.save(model.state_dict(), 'model.pt')\n",
    "        valid_loss_min = valid_loss"
   ],
   "metadata": {
    "collapsed": false,
    "pycharm": {
     "name": "#%%\n"
    }
   }
  },
  {
   "cell_type": "code",
   "execution_count": null,
   "outputs": [],
   "source": [
    "model.load_state_dict(torch.load('model.pt'))"
   ],
   "metadata": {
    "collapsed": false,
    "pycharm": {
     "name": "#%%\n"
    }
   }
  },
  {
   "cell_type": "code",
   "execution_count": 15,
   "outputs": [
    {
     "name": "stdout",
     "output_type": "stream",
     "text": [
      "Test Loss: 0.05922838097862314\n",
      "\n",
      "Test Accuracy of     0: 98% (970/980)\n",
      "Test Accuracy of     1: 99% (1125/1135)\n",
      "Test Accuracy of     2: 98% (1013/1032)\n",
      "Test Accuracy of     3: 98% (991/1010)\n",
      "Test Accuracy of     4: 98% (965/982)\n",
      "Test Accuracy of     5: 97% (873/892)\n",
      "Test Accuracy of     6: 98% (943/958)\n",
      "Test Accuracy of     7: 98% (1008/1028)\n",
      "Test Accuracy of     8: 97% (952/974)\n",
      "Test Accuracy of     9: 97% (984/1009)\n",
      "\n",
      "Test Accuracy (Overall): 98% (9824/10000)\n"
     ]
    }
   ],
   "source": [
    "# Test the model\n",
    "test_loss = 0.0\n",
    "class_correct = list(0. for i in range(10))\n",
    "class_total = list(0. for i in range(10))\n",
    "\n",
    "model.eval()\n",
    "\n",
    "for data,target in test_loader:\n",
    "    output = model(data)\n",
    "    loss = criterion(output, target)\n",
    "    test_loss += loss.item()*data.size(0)\n",
    "    _, pred = torch.max(output, 1)\n",
    "    correct = np.squeeze(pred.eq(target.data.view_as(pred)))\n",
    "    for i in range(batch_size):\n",
    "        label = target.data[i]\n",
    "        class_correct[label] += correct[i].item()\n",
    "        class_total[label]+=1\n",
    "\n",
    "test_loss = test_loss/len(test_loader.dataset)\n",
    "print(f\"Test Loss: {test_loss}\\n\")\n",
    "for i in range(10):\n",
    "    if class_total[i] > 0:\n",
    "        print('Test Accuracy of %5s: %2d%% (%2d/%2d)' % (\n",
    "            str(i), 100 * class_correct[i] / class_total[i],\n",
    "            np.sum(class_correct[i]), np.sum(class_total[i])))\n",
    "\n",
    "print('\\nTest Accuracy (Overall): %2d%% (%2d/%2d)' % (\n",
    "    100. * np.sum(class_correct) / np.sum(class_total),\n",
    "    np.sum(class_correct), np.sum(class_total)))"
   ],
   "metadata": {
    "collapsed": false,
    "pycharm": {
     "name": "#%%\n"
    }
   }
  },
  {
   "cell_type": "code",
   "execution_count": 16,
   "outputs": [
    {
     "name": "stderr",
     "output_type": "stream",
     "text": [
      "/var/folders/2c/j9b406px6x12xww8sbjqxyv00000gp/T/ipykernel_6898/4198272273.py:14: MatplotlibDeprecationWarning: Passing non-integers as three-element position specification is deprecated since 3.3 and will be removed two minor releases later.\n",
      "  ax = fig.add_subplot(2, 20/2, idx+1, xticks=[], yticks=[])\n"
     ]
    },
    {
     "data": {
      "text/plain": "<Figure size 1800x288 with 20 Axes>",
      "image/png": "[encoded data removed]"
     },
     "metadata": {},
     "output_type": "display_data"
    }
   ],
   "source": [
    "dataiter = iter(test_loader)\n",
    "images, labels = dataiter.next()\n",
    "\n",
    "# get sample outputs\n",
    "output = model(images)\n",
    "# convert output probabilities to predicted class\n",
    "_, preds = torch.max(output, 1)\n",
    "# prep images for display\n",
    "images = images.numpy()\n",
    "\n",
    "# plot the images in the batch, along with predicted and true labels\n",
    "fig = plt.figure(figsize=(25, 4))\n",
    "for idx in np.arange(20):\n",
    "    ax = fig.add_subplot(2, 20/2, idx+1, xticks=[], yticks=[])\n",
    "    ax.imshow(np.squeeze(images[idx]), cmap='gray')\n",
    "    ax.set_title(\"{} ({})\".format(str(preds[idx].item()), str(labels[idx].item())),\n",
    "                 color=(\"green\" if preds[idx]==labels[idx] else \"red\"))\n",
    "    #%%\n",
    "    "
   ],
   "metadata": {
    "collapsed": false,
    "pycharm": {
     "name": "#%%\n"
    }
   }
  }
 ],
 "metadata": {
  "kernelspec": {
   "display_name": "Python 3",
   "language": "python",
   "name": "python3"
  },
  "language_info": {
   "codemirror_mode": {
    "name": "ipython",
    "version": 2
   },
   "file_extension": ".py",
   "mimetype": "text/x-python",
   "name": "python",
   "nbconvert_exporter": "python",
   "pygments_lexer": "ipython2",
   "version": "2.7.6"
  }
 },
 "nbformat": 4,
 "nbformat_minor": 0
}